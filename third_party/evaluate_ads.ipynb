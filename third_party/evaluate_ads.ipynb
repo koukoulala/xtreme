{
 "cells": [
  {
   "cell_type": "code",
   "execution_count": 1,
   "id": "35e878b3",
   "metadata": {},
   "outputs": [
    {
     "ename": "ModuleNotFoundError",
     "evalue": "No module named 'processors'",
     "output_type": "error",
     "traceback": [
      "\u001b[0;31m---------------------------------------------------------------------------\u001b[0m",
      "\u001b[0;31mModuleNotFoundError\u001b[0m                       Traceback (most recent call last)",
      "\u001b[0;32m<ipython-input-1-0ec402070d70>\u001b[0m in \u001b[0;36m<module>\u001b[0;34m\u001b[0m\n\u001b[1;32m     21\u001b[0m )\n\u001b[1;32m     22\u001b[0m \u001b[0;34m\u001b[0m\u001b[0m\n\u001b[0;32m---> 23\u001b[0;31m \u001b[0;32mfrom\u001b[0m \u001b[0mprocessors\u001b[0m\u001b[0;34m.\u001b[0m\u001b[0mutils\u001b[0m \u001b[0;32mimport\u001b[0m \u001b[0mconvert_examples_to_features\u001b[0m\u001b[0;34m\u001b[0m\u001b[0;34m\u001b[0m\u001b[0m\n\u001b[0m\u001b[1;32m     24\u001b[0m \u001b[0;32mfrom\u001b[0m \u001b[0mprocessors\u001b[0m\u001b[0;34m.\u001b[0m\u001b[0mxnli\u001b[0m \u001b[0;32mimport\u001b[0m \u001b[0mXnliProcessor\u001b[0m\u001b[0;34m\u001b[0m\u001b[0;34m\u001b[0m\u001b[0m\n\u001b[1;32m     25\u001b[0m \u001b[0;32mfrom\u001b[0m \u001b[0mprocessors\u001b[0m\u001b[0;34m.\u001b[0m\u001b[0mpawsx\u001b[0m \u001b[0;32mimport\u001b[0m \u001b[0mPawsxProcessor\u001b[0m\u001b[0;34m\u001b[0m\u001b[0;34m\u001b[0m\u001b[0m\n",
      "\u001b[0;31mModuleNotFoundError\u001b[0m: No module named 'processors'"
     ]
    }
   ],
   "source": [
    "import numpy as np\n",
    "import torch\n",
    "from torch.utils.data import DataLoader, TensorDataset\n",
    "from torch.utils.data import RandomSampler, SequentialSampler\n",
    "from torch.utils.data.distributed import DistributedSampler\n",
    "from tqdm import tqdm, trange\n",
    "\n",
    "from transformers import (\n",
    "  WEIGHTS_NAME,\n",
    "  AdamW,\n",
    "  BertConfig,\n",
    "  BertForSequenceClassification,\n",
    "  BertTokenizer,\n",
    "  XLMConfig,\n",
    "  XLMForSequenceClassification,\n",
    "  XLMTokenizer,\n",
    "  XLMRobertaConfig,\n",
    "  XLMRobertaTokenizer,\n",
    "  XLMRobertaForSequenceClassification,\n",
    "  get_linear_schedule_with_warmup,\n",
    ")\n",
    "\n",
    "from processors.utils import convert_examples_to_features\n",
    "from processors.xnli import XnliProcessor\n",
    "from processors.pawsx import PawsxProcessor\n",
    "from processors.ads import AdsProcessor"
   ]
  },
  {
   "cell_type": "code",
   "execution_count": null,
   "id": "cd68c973",
   "metadata": {},
   "outputs": [],
   "source": [
    "MODEL_CLASSES = {\n",
    "  \"bert\": (BertConfig, BertForSequenceClassification, BertTokenizer),\n",
    "  \"xlm\": (XLMConfig, XLMForSequenceClassification, XLMTokenizer),\n",
    "  \"xlmr\": (XLMRobertaConfig, XLMRobertaForSequenceClassification, XLMRobertaTokenizer),\n",
    "}\n",
    "\n",
    "PROCESSORS = {\n",
    "  'xnli': XnliProcessor,\n",
    "  'pawsx': PawsxProcessor,\n",
    "  'ads': AdsProcessor,\n",
    "}\n",
    "\n",
    "\n",
    "def compute_metrics(preds, labels):\n",
    "  scores = {\n",
    "    \"acc\": (preds == labels).mean(), \n",
    "    \"num\": len(\n",
    "      preds), \n",
    "    \"correct\": (preds == labels).sum()\n",
    "  }\n",
    "  return scores\n",
    "\n",
    "\n",
    "def set_seed(args):\n",
    "  random.seed(args.seed)\n",
    "  np.random.seed(args.seed)\n",
    "  torch.manual_seed(args.seed)\n",
    "  if args.n_gpu > 0:\n",
    "    torch.cuda.manual_seed_all(args.seed)\n"
   ]
  }
 ],
 "metadata": {
  "kernelspec": {
   "display_name": "py3.6",
   "language": "python",
   "name": "py3.6"
  },
  "language_info": {
   "codemirror_mode": {
    "name": "ipython",
    "version": 3
   },
   "file_extension": ".py",
   "mimetype": "text/x-python",
   "name": "python",
   "nbconvert_exporter": "python",
   "pygments_lexer": "ipython3",
   "version": "3.6.13"
  }
 },
 "nbformat": 4,
 "nbformat_minor": 5
}
